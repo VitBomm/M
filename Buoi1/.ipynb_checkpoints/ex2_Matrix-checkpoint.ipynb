{
 "cells": [
  {
   "cell_type": "markdown",
   "metadata": {},
   "source": [
    "# Ex2: Matrices"
   ]
  },
  {
   "cell_type": "markdown",
   "metadata": {},
   "source": [
    "## Câu 1:\n",
    "- Viết function cal_matrices(op, m1, m2) với op là một trong các toán tử +, -, *, /; m1 và m2 là ma trận (numpy array). Hãy thực hiện việc tính toán theo toán tử và hai ma trận được truyền vào. Kết quả trả về là một ma trận/giá trị tương ứng.\n",
    "- Gọi function này với các toán tử khác nhau để xem kết quả"
   ]
  },
  {
   "cell_type": "markdown",
   "metadata": {},
   "source": [
    "## Câu 2:\n",
    "- Cho ma trận A = [[1, 3, 3], [4, 5, 6], [7, 8, 9]] và ma trận B = [[2, 3], [6, 8], [5, 7]]\n",
    "- Thực hiện dot product cho A.B bằng dot và @"
   ]
  },
  {
   "cell_type": "markdown",
   "metadata": {},
   "source": [
    "## Câu 1: Gợi ý"
   ]
  },
  {
   "cell_type": "code",
   "execution_count": 12,
   "metadata": {},
   "outputs": [],
   "source": [
    "import numpy as np"
   ]
  },
  {
   "cell_type": "code",
   "execution_count": 47,
   "metadata": {},
   "outputs": [],
   "source": [
    "def cal_matrices(op, m1, m2):\n",
    "    return eval(f\"m1 {op} m2\")"
   ]
  },
  {
   "cell_type": "code",
   "execution_count": 48,
   "metadata": {},
   "outputs": [],
   "source": [
    "m1 = np.array([[1, 3, 2, 4], [4, 3, 6, 8], [5, 6, 3, 1]])\n",
    "m2 = np.array([[2, 4, 5, 1], [5, 1, 2, 3], [1, 8, 1, 9]])"
   ]
  },
  {
   "cell_type": "code",
   "execution_count": 49,
   "metadata": {},
   "outputs": [
    {
     "data": {
      "text/plain": [
       "array([[ 3,  7,  7,  5],\n",
       "       [ 9,  4,  8, 11],\n",
       "       [ 6, 14,  4, 10]])"
      ]
     },
     "execution_count": 49,
     "metadata": {},
     "output_type": "execute_result"
    }
   ],
   "source": [
    "\n",
    "cal_matrices(\"+\", m1, m2)"
   ]
  },
  {
   "cell_type": "code",
   "execution_count": 50,
   "metadata": {},
   "outputs": [
    {
     "data": {
      "text/plain": [
       "array([[-1, -1, -3,  3],\n",
       "       [-1,  2,  4,  5],\n",
       "       [ 4, -2,  2, -8]])"
      ]
     },
     "execution_count": 50,
     "metadata": {},
     "output_type": "execute_result"
    }
   ],
   "source": [
    "cal_matrices(\"-\", m1, m2)"
   ]
  },
  {
   "cell_type": "code",
   "execution_count": 51,
   "metadata": {},
   "outputs": [
    {
     "data": {
      "text/plain": [
       "array([[ 2, 12, 10,  4],\n",
       "       [20,  3, 12, 24],\n",
       "       [ 5, 48,  3,  9]])"
      ]
     },
     "execution_count": 51,
     "metadata": {},
     "output_type": "execute_result"
    }
   ],
   "source": [
    "cal_matrices(\"*\", m1, m2)"
   ]
  },
  {
   "cell_type": "code",
   "execution_count": 52,
   "metadata": {},
   "outputs": [
    {
     "data": {
      "text/plain": [
       "array([[0.5       , 0.75      , 0.4       , 4.        ],\n",
       "       [0.8       , 3.        , 3.        , 2.66666667],\n",
       "       [5.        , 0.75      , 3.        , 0.11111111]])"
      ]
     },
     "execution_count": 52,
     "metadata": {},
     "output_type": "execute_result"
    }
   ],
   "source": [
    "cal_matrices(\"/\", m1, m2)"
   ]
  },
  {
   "cell_type": "markdown",
   "metadata": {},
   "source": [
    "## Câu 2: Gợi ý\n",
    "- Cho ma trận A = [[1, 3, 3], [4, 5, 6], [7, 8, 9]] và ma trận B = [[2, 3], [6, 8], [5, 7]]\n",
    "- Thực hiện dot product cho A.B bằng dot và @"
   ]
  },
  {
   "cell_type": "code",
   "execution_count": 44,
   "metadata": {},
   "outputs": [],
   "source": [
    "A = np.matrix([[1, 3, 3], [4, 5, 6], [7, 8, 9]])\n",
    "B = np.matrix( [[2, 3], [6, 8], [5, 7]])"
   ]
  },
  {
   "cell_type": "code",
   "execution_count": 45,
   "metadata": {},
   "outputs": [
    {
     "data": {
      "text/plain": [
       "matrix([[ 35,  48],\n",
       "        [ 68,  94],\n",
       "        [107, 148]])"
      ]
     },
     "execution_count": 45,
     "metadata": {},
     "output_type": "execute_result"
    }
   ],
   "source": [
    "A_dot_B = A.dot(B)\n",
    "A_dot_B"
   ]
  },
  {
   "cell_type": "code",
   "execution_count": 46,
   "metadata": {},
   "outputs": [
    {
     "data": {
      "text/plain": [
       "matrix([[ 35,  48],\n",
       "        [ 68,  94],\n",
       "        [107, 148]])"
      ]
     },
     "execution_count": 46,
     "metadata": {},
     "output_type": "execute_result"
    }
   ],
   "source": [
    "A_B = A@B\n",
    "A_B"
   ]
  },
  {
   "cell_type": "code",
   "execution_count": null,
   "metadata": {},
   "outputs": [],
   "source": []
  }
 ],
 "metadata": {
  "kernelspec": {
   "display_name": "Python 3",
   "language": "python",
   "name": "python3"
  },
  "language_info": {
   "codemirror_mode": {
    "name": "ipython",
    "version": 3
   },
   "file_extension": ".py",
   "mimetype": "text/x-python",
   "name": "python",
   "nbconvert_exporter": "python",
   "pygments_lexer": "ipython3",
   "version": "3.8.3"
  }
 },
 "nbformat": 4,
 "nbformat_minor": 2
}
