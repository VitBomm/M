{
 "cells": [
  {
   "cell_type": "markdown",
   "metadata": {},
   "source": [
    "# Ex2: EiganDecomposition"
   ]
  },
  {
   "cell_type": "markdown",
   "metadata": {},
   "source": [
    "## Câu 1: \n",
    "- Tạo ma trận A(5x5) với các giá trị ngẫu nhiên từ 1 đến 10\n",
    "- Phân tích thành eiganvalues và eiganvectors \n",
    "- Xác nhận eigenvector đầu tiên theo dot và theo eigenvalue có bằng nhau?\n",
    "- Nấu bằng nhau thi tái cấu trúc A từ các eigenvector và eigenvalue"
   ]
  },
  {
   "cell_type": "markdown",
   "metadata": {},
   "source": [
    "## Câu 2: \n",
    "- Tạo ma trận P(4x4) vuông với các giá trị ngẫu nhiên tứ 1 đến 9\n",
    "- Tạo ma trận đối xứng $ S = P.P^T$\n",
    "- Tìm eigenvalues và eigenvectors của S"
   ]
  },
  {
   "cell_type": "markdown",
   "metadata": {},
   "source": [
    "## Câu 1: Gợi ý"
   ]
  },
  {
   "cell_type": "code",
   "execution_count": 1,
   "metadata": {},
   "outputs": [],
   "source": [
    "from lib import *\n",
    "import numpy\n",
    "from numpy.linalg import eig, inv\n",
    "from numpy import diag"
   ]
  },
  {
   "cell_type": "code",
   "execution_count": 2,
   "metadata": {},
   "outputs": [
    {
     "data": {
      "text/plain": [
       "array([[10.,  9.,  7.,  4.,  5.],\n",
       "       [ 2.,  4.,  5.,  1., 11.],\n",
       "       [ 5.,  6.,  6.,  2.,  4.],\n",
       "       [ 6.,  2.,  4.,  1.,  5.],\n",
       "       [10., 11., 10.,  7.,  3.]])"
      ]
     },
     "execution_count": 2,
     "metadata": {},
     "output_type": "execute_result"
    }
   ],
   "source": [
    "A = create_matrix_random(5, 5, 1, 10)\n",
    "A"
   ]
  },
  {
   "cell_type": "code",
   "execution_count": 3,
   "metadata": {},
   "outputs": [],
   "source": [
    "values, vectors = eig(A)"
   ]
  },
  {
   "cell_type": "code",
   "execution_count": 4,
   "metadata": {},
   "outputs": [
    {
     "data": {
      "text/plain": [
       "array([28.79928688+0.j        , -7.81752687+0.j        ,\n",
       "        0.42568488+1.94555812j,  0.42568488-1.94555812j,\n",
       "        2.16687023+0.j        ])"
      ]
     },
     "execution_count": 4,
     "metadata": {},
     "output_type": "execute_result"
    }
   ],
   "source": [
    "values"
   ]
  },
  {
   "cell_type": "code",
   "execution_count": 5,
   "metadata": {},
   "outputs": [
    {
     "data": {
      "text/plain": [
       "array([[-0.53690193+0.j        , -0.19584048+0.j        ,\n",
       "         0.04478777-0.23711651j,  0.04478777+0.23711651j,\n",
       "        -0.45221672+0.j        ],\n",
       "       [-0.38787569+0.j        ,  0.62819374+0.j        ,\n",
       "         0.33888015+0.46361466j,  0.33888015-0.46361466j,\n",
       "         0.3647701 +0.j        ],\n",
       "       [-0.34977496+0.j        , -0.07223616+0.j        ,\n",
       "         0.07840503-0.33363515j,  0.07840503+0.33363515j,\n",
       "         0.50041371+0.j        ],\n",
       "       [-0.30033158+0.j        ,  0.38739744+0.j        ,\n",
       "        -0.67319029+0.j        , -0.67319029-0.j        ,\n",
       "        -0.62429667+0.j        ],\n",
       "       [-0.59054821+0.j        , -0.64165746+0.j        ,\n",
       "        -0.17469674+0.1040559j , -0.17469674-0.1040559j ,\n",
       "        -0.14927358+0.j        ]])"
      ]
     },
     "execution_count": 5,
     "metadata": {},
     "output_type": "execute_result"
    }
   ],
   "source": [
    "vectors"
   ]
  },
  {
   "cell_type": "code",
   "execution_count": 6,
   "metadata": {},
   "outputs": [
    {
     "data": {
      "text/plain": [
       "array([-15.4623926 +0.j, -11.17054329+0.j, -10.07326956+0.j,\n",
       "        -8.64933541+0.j, -17.00736721+0.j])"
      ]
     },
     "execution_count": 6,
     "metadata": {},
     "output_type": "execute_result"
    }
   ],
   "source": [
    "# Confirm first eigenvector\n",
    "B = A.dot(vectors[:,0])\n",
    "B"
   ]
  },
  {
   "cell_type": "code",
   "execution_count": 7,
   "metadata": {},
   "outputs": [
    {
     "data": {
      "text/plain": [
       "array([-15.4623926 +0.j, -11.17054329+0.j, -10.07326956+0.j,\n",
       "        -8.64933541+0.j, -17.00736721+0.j])"
      ]
     },
     "execution_count": 7,
     "metadata": {},
     "output_type": "execute_result"
    }
   ],
   "source": [
    "C = vectors[:, 0] * values[0]\n",
    "C"
   ]
  },
  {
   "cell_type": "code",
   "execution_count": 8,
   "metadata": {},
   "outputs": [],
   "source": [
    "# B == C => như mong muốn\n",
    "# Tái cấu trúc A\n",
    "Q = vectors\n",
    "R = inv(Q)\n",
    "L = diag(values)"
   ]
  },
  {
   "cell_type": "code",
   "execution_count": 9,
   "metadata": {},
   "outputs": [
    {
     "data": {
      "text/plain": [
       "array([[-0.53690193+0.j        , -0.19584048+0.j        ,\n",
       "         0.04478777-0.23711651j,  0.04478777+0.23711651j,\n",
       "        -0.45221672+0.j        ],\n",
       "       [-0.38787569+0.j        ,  0.62819374+0.j        ,\n",
       "         0.33888015+0.46361466j,  0.33888015-0.46361466j,\n",
       "         0.3647701 +0.j        ],\n",
       "       [-0.34977496+0.j        , -0.07223616+0.j        ,\n",
       "         0.07840503-0.33363515j,  0.07840503+0.33363515j,\n",
       "         0.50041371+0.j        ],\n",
       "       [-0.30033158+0.j        ,  0.38739744+0.j        ,\n",
       "        -0.67319029+0.j        , -0.67319029-0.j        ,\n",
       "        -0.62429667+0.j        ],\n",
       "       [-0.59054821+0.j        , -0.64165746+0.j        ,\n",
       "        -0.17469674+0.1040559j , -0.17469674-0.1040559j ,\n",
       "        -0.14927358+0.j        ]])"
      ]
     },
     "execution_count": 9,
     "metadata": {},
     "output_type": "execute_result"
    }
   ],
   "source": [
    "Q"
   ]
  },
  {
   "cell_type": "code",
   "execution_count": 10,
   "metadata": {},
   "outputs": [
    {
     "data": {
      "text/plain": [
       "array([[-0.51128056-0.00000000e+00j, -0.53007549-2.34998391e-17j,\n",
       "        -0.51418635+3.85915400e-18j, -0.24344322-4.90154839e-17j,\n",
       "        -0.45199678+2.84207889e-17j],\n",
       "       [ 0.21432664+0.00000000e+00j,  0.46623006+1.32214953e-17j,\n",
       "         0.21879323-2.56579485e-17j,  0.5047106 +1.73119110e-17j,\n",
       "        -0.88734605+2.77522215e-17j],\n",
       "       [ 0.69153122+4.26934655e-01j,  0.20592668-3.50929649e-01j,\n",
       "        -0.30098928+5.49401921e-01j, -0.54851738+4.73414358e-02j,\n",
       "        -0.30673667-5.07139165e-01j],\n",
       "       [ 0.69153122-4.26934655e-01j,  0.20592668+3.50929649e-01j,\n",
       "        -0.30098928-5.49401921e-01j, -0.54851738-4.73414358e-02j,\n",
       "        -0.30673667+5.07139165e-01j],\n",
       "       [-1.11242132-0.00000000e+00j,  0.10020726+0.00000000e+00j,\n",
       "         1.03225356-6.17517879e-17j,  0.01145358-6.17517879e-17j,\n",
       "         0.32833367+2.70164072e-17j]])"
      ]
     },
     "execution_count": 10,
     "metadata": {},
     "output_type": "execute_result"
    }
   ],
   "source": [
    "R"
   ]
  },
  {
   "cell_type": "code",
   "execution_count": 11,
   "metadata": {},
   "outputs": [
    {
     "data": {
      "text/plain": [
       "array([[28.79928688+0.j        ,  0.        +0.j        ,\n",
       "         0.        +0.j        ,  0.        +0.j        ,\n",
       "         0.        +0.j        ],\n",
       "       [ 0.        +0.j        , -7.81752687+0.j        ,\n",
       "         0.        +0.j        ,  0.        +0.j        ,\n",
       "         0.        +0.j        ],\n",
       "       [ 0.        +0.j        ,  0.        +0.j        ,\n",
       "         0.42568488+1.94555812j,  0.        +0.j        ,\n",
       "         0.        +0.j        ],\n",
       "       [ 0.        +0.j        ,  0.        +0.j        ,\n",
       "         0.        +0.j        ,  0.42568488-1.94555812j,\n",
       "         0.        +0.j        ],\n",
       "       [ 0.        +0.j        ,  0.        +0.j        ,\n",
       "         0.        +0.j        ,  0.        +0.j        ,\n",
       "         2.16687023+0.j        ]])"
      ]
     },
     "execution_count": 11,
     "metadata": {},
     "output_type": "execute_result"
    }
   ],
   "source": [
    "L"
   ]
  },
  {
   "cell_type": "code",
   "execution_count": 12,
   "metadata": {},
   "outputs": [
    {
     "data": {
      "text/plain": [
       "array([[10.+0.00000000e+00j,  9.+3.89011739e-16j,  7.+4.13175260e-18j,\n",
       "         4.+8.84503917e-16j,  5.-4.70562451e-16j],\n",
       "       [ 2.+0.00000000e+00j,  4.+1.66533454e-16j,  5.-4.88091974e-17j,\n",
       "         1.+2.42624347e-16j, 11.-2.56201732e-16j],\n",
       "       [ 5.+0.00000000e+00j,  6.+2.49366500e-16j,  6.-6.60920518e-17j,\n",
       "         2.+4.93356269e-16j,  4.-3.03338483e-16j],\n",
       "       [ 6.+0.00000000e+00j,  2.+2.77555756e-16j,  4.+2.80248065e-17j,\n",
       "         1.+6.52525258e-16j,  5.-3.97369465e-16j],\n",
       "       [10.+0.00000000e+00j, 11.+4.85722573e-16j, 10.-2.15948377e-16j,\n",
       "         7.+9.46316352e-16j,  3.-3.27927751e-16j]])"
      ]
     },
     "execution_count": 12,
     "metadata": {},
     "output_type": "execute_result"
    }
   ],
   "source": [
    "A_new = Q.dot(L).dot(R)\n",
    "A_new"
   ]
  },
  {
   "cell_type": "markdown",
   "metadata": {},
   "source": [
    "## Câu 2: Gợi ý\n",
    "- Tạo ma trận P(4x4) vuông với các giá trị ngẫu nhiên tứ 1 đến 9\n",
    "- Tạo ma trận đối xứng $ S = P.P^T$\n",
    "- Tìm eigenvalues và eigenvectors của S"
   ]
  },
  {
   "cell_type": "code",
   "execution_count": 13,
   "metadata": {},
   "outputs": [],
   "source": [
    "import numpy as np\n",
    "from numpy.linalg import eig, inv\n",
    "from numpy import diag"
   ]
  },
  {
   "cell_type": "code",
   "execution_count": 14,
   "metadata": {},
   "outputs": [
    {
     "name": "stdout",
     "output_type": "stream",
     "text": [
      "[[8 1 6 6]\n",
      " [1 7 2 5]\n",
      " [3 6 5 7]\n",
      " [9 9 2 6]]\n"
     ]
    }
   ],
   "source": [
    "n = 4\n",
    "P = np.random.randint(1,10,(n,n))\n",
    "print(P)"
   ]
  },
  {
   "cell_type": "code",
   "execution_count": 15,
   "metadata": {},
   "outputs": [
    {
     "name": "stdout",
     "output_type": "stream",
     "text": [
      "[[137  57 102 129]\n",
      " [ 57  79  90 106]\n",
      " [102  90 119 133]\n",
      " [129 106 133 202]]\n"
     ]
    }
   ],
   "source": [
    "S = P @ P.T\n",
    "print(S)"
   ]
  },
  {
   "cell_type": "code",
   "execution_count": 16,
   "metadata": {},
   "outputs": [],
   "source": [
    "values, vectors = eig(S)"
   ]
  },
  {
   "cell_type": "code",
   "execution_count": 17,
   "metadata": {},
   "outputs": [
    {
     "data": {
      "text/plain": [
       "array([4.59628941e+02, 5.21381821e+01, 1.68812022e-02, 2.52159959e+01])"
      ]
     },
     "execution_count": 17,
     "metadata": {},
     "output_type": "execute_result"
    }
   ],
   "source": [
    "values"
   ]
  },
  {
   "cell_type": "code",
   "execution_count": 18,
   "metadata": {},
   "outputs": [
    {
     "data": {
      "text/plain": [
       "array([[-0.47319622, -0.80059679, -0.32994918, -0.16206064],\n",
       "       [-0.36360972,  0.55702458, -0.69019071, -0.28486553],\n",
       "       [-0.48682627,  0.15099352,  0.62316163, -0.59318692],\n",
       "       [-0.63786636,  0.16115007,  0.1626035 ,  0.73533479]])"
      ]
     },
     "execution_count": 18,
     "metadata": {},
     "output_type": "execute_result"
    }
   ],
   "source": [
    "vectors"
   ]
  },
  {
   "cell_type": "code",
   "execution_count": null,
   "metadata": {},
   "outputs": [],
   "source": []
  }
 ],
 "metadata": {
  "kernelspec": {
   "display_name": "Python 3",
   "language": "python",
   "name": "python3"
  },
  "language_info": {
   "codemirror_mode": {
    "name": "ipython",
    "version": 3
   },
   "file_extension": ".py",
   "mimetype": "text/x-python",
   "name": "python",
   "nbconvert_exporter": "python",
   "pygments_lexer": "ipython3",
   "version": "3.6.8"
  }
 },
 "nbformat": 4,
 "nbformat_minor": 2
}
