{
 "cells": [
  {
   "cell_type": "markdown",
   "metadata": {},
   "source": [
    "# Ex1: Decomposition"
   ]
  },
  {
   "cell_type": "markdown",
   "metadata": {},
   "source": [
    "## Câu 1: LU Decomposition\n",
    "- Tạo ma trận A(4x4) chứa các giá trị ngẫu nhiên trong khoảng 1 - 10\n",
    "- Phân tích thành các thành phần P, L, U. In kết quả\n",
    "- Tại tạo ma trận B từ các thành phần P, L, U. "
   ]
  },
  {
   "cell_type": "markdown",
   "metadata": {},
   "source": [
    "## Câu 2: Hãy dùng LU Decompostion để làm lại bài toán này:\n",
    "- Cho: <br/>\n",
    "    2a + b  + c = 4<br/> \n",
    "     a + 3b + 2c = 5<br/>\n",
    "     a          = 6<br/>   \n",
    "- Quy về Ax = B. Sau đó giải tìm x\n",
    "- Phân tích thành các thành phần P, L, U từ A. In kết quả\n",
    "- Tại tạo ma trận A từ các thành phần P, L, U với tên là A_new"
   ]
  },
  {
   "cell_type": "markdown",
   "metadata": {},
   "source": [
    "## Câu 3: QR Decomposition\n",
    "- Tạo ma trận C(4x5) chứa các giá trị ngẫu nhiên trong khoảng 5 - 10\n",
    "- Phân tích thành các thành phần Q, R. In kết quả\n",
    "- Tái tạo ma trận D từ các thành phần Q, R. "
   ]
  },
  {
   "cell_type": "markdown",
   "metadata": {},
   "source": [
    "## Câu 4: Cholesky Decomposition\n",
    "- Tạo ma trận E(3x3) vuông chứa các giá trị ngẫu nhiên trong khoảng 3 - 9.\n",
    "- Từ đó chuyển E thành ma trận vuông đối xứng theo tam giác dưới dường chéo chính\n",
    "- Kiểm tra nếu mọi thành phần đều không âm thì:\n",
    "    - Phân tích thành L. In kết quả\n",
    "    - Tái tạo ma trận F từ các thành phần L.L.T \n",
    "- Ngược lại thì thông báo E có thành phần âm\n",
    "- Chú ý: dùng np.linalg.eigvalsh(E) để kiểm tra xem mọi thành phần có âm hay không\n",
    "- Mở rộng: Thực hiện việc tạo ma trận vuông đối xứng với mọi thành phần đều không âm và phân tích."
   ]
  },
  {
   "cell_type": "markdown",
   "metadata": {},
   "source": [
    "## Câu 1: LU Decomposition (Gợi ý)"
   ]
  },
  {
   "cell_type": "code",
   "execution_count": 1,
   "metadata": {},
   "outputs": [],
   "source": [
    "from lib import *\n",
    "import numpy\n",
    "import scipy\n",
    "from scipy.linalg import lu"
   ]
  },
  {
   "cell_type": "code",
   "execution_count": 2,
   "metadata": {},
   "outputs": [
    {
     "data": {
      "text/plain": [
       "array([[ 3.,  2.,  5.,  9.],\n",
       "       [ 1.,  7.,  5.,  7.],\n",
       "       [ 5., 10.,  5.,  3.],\n",
       "       [ 6.,  9.,  7.,  2.]])"
      ]
     },
     "execution_count": 2,
     "metadata": {},
     "output_type": "execute_result"
    }
   ],
   "source": [
    "A = create_matrix_random(4, 4, 1, 10)\n",
    "A"
   ]
  },
  {
   "cell_type": "code",
   "execution_count": 3,
   "metadata": {},
   "outputs": [],
   "source": [
    "P, L, U = lu(A)"
   ]
  },
  {
   "cell_type": "code",
   "execution_count": 4,
   "metadata": {},
   "outputs": [
    {
     "data": {
      "text/plain": [
       "array([[0., 0., 1., 0.],\n",
       "       [0., 1., 0., 0.],\n",
       "       [0., 0., 0., 1.],\n",
       "       [1., 0., 0., 0.]])"
      ]
     },
     "execution_count": 4,
     "metadata": {},
     "output_type": "execute_result"
    }
   ],
   "source": [
    "P"
   ]
  },
  {
   "cell_type": "code",
   "execution_count": 5,
   "metadata": {},
   "outputs": [
    {
     "data": {
      "text/plain": [
       "array([[ 1.        ,  0.        ,  0.        ,  0.        ],\n",
       "       [ 0.16666667,  1.        ,  0.        ,  0.        ],\n",
       "       [ 0.5       , -0.45454545,  1.        ,  0.        ],\n",
       "       [ 0.83333333,  0.45454545, -0.79439252,  1.        ]])"
      ]
     },
     "execution_count": 5,
     "metadata": {},
     "output_type": "execute_result"
    }
   ],
   "source": [
    "L"
   ]
  },
  {
   "cell_type": "code",
   "execution_count": 6,
   "metadata": {},
   "outputs": [
    {
     "data": {
      "text/plain": [
       "array([[ 6.        ,  9.        ,  7.        ,  2.        ],\n",
       "       [ 0.        ,  5.5       ,  3.83333333,  6.66666667],\n",
       "       [ 0.        ,  0.        ,  3.24242424, 11.03030303],\n",
       "       [ 0.        ,  0.        ,  0.        ,  7.06542056]])"
      ]
     },
     "execution_count": 6,
     "metadata": {},
     "output_type": "execute_result"
    }
   ],
   "source": [
    "U"
   ]
  },
  {
   "cell_type": "code",
   "execution_count": 7,
   "metadata": {},
   "outputs": [
    {
     "data": {
      "text/plain": [
       "array([[ 3.,  2.,  5.,  9.],\n",
       "       [ 1.,  7.,  5.,  7.],\n",
       "       [ 5., 10.,  5.,  3.],\n",
       "       [ 6.,  9.,  7.,  2.]])"
      ]
     },
     "execution_count": 7,
     "metadata": {},
     "output_type": "execute_result"
    }
   ],
   "source": [
    "B = P.dot(L).dot(U)\n",
    "B"
   ]
  },
  {
   "cell_type": "markdown",
   "metadata": {},
   "source": [
    "## Câu 2: Hãy dùng LU Decompostion để làm lại bài toán này:\n",
    "- Cho: <br/>\n",
    "    2a + b  + c = 4<br/> \n",
    "     a + 3b + 2c = 5<br/>\n",
    "     a          = 6<br/>   \n",
    "- Quy về Ax = B. Sau đó giải tìm x\n",
    "- Phân tích thành các thành phần P, L, U từ A. In kết quả\n",
    "- Tại tạo ma trận A từ các thành phần P, L, U với tên là A_new"
   ]
  },
  {
   "cell_type": "code",
   "execution_count": 8,
   "metadata": {},
   "outputs": [],
   "source": [
    "import scipy.linalg as linalg "
   ]
  },
  {
   "cell_type": "code",
   "execution_count": 9,
   "metadata": {},
   "outputs": [],
   "source": [
    "# define matrix A using Numpy arrays \n",
    "A = np.array([[2, 1, 1], [1, 3, 2], [1, 0, 0]]) "
   ]
  },
  {
   "cell_type": "code",
   "execution_count": 10,
   "metadata": {},
   "outputs": [],
   "source": [
    "# define matrix B \n",
    "B = np.array([4, 5, 6]) "
   ]
  },
  {
   "cell_type": "code",
   "execution_count": 11,
   "metadata": {},
   "outputs": [],
   "source": [
    "# With LU = A\n",
    "LU = linalg.lu_factor(A) "
   ]
  },
  {
   "cell_type": "code",
   "execution_count": 12,
   "metadata": {},
   "outputs": [
    {
     "name": "stdout",
     "output_type": "stream",
     "text": [
      "Solutions(a, b, c):\n",
      " [  6.  15. -23.]\n"
     ]
    }
   ],
   "source": [
    "#solve given LU and B \n",
    "x = linalg.lu_solve(LU, B) \n",
    "print(\"Solutions(a, b, c):\\n\",x) "
   ]
  },
  {
   "cell_type": "code",
   "execution_count": 13,
   "metadata": {},
   "outputs": [],
   "source": [
    "P, L, U = scipy.linalg.lu(A) "
   ]
  },
  {
   "cell_type": "code",
   "execution_count": 14,
   "metadata": {},
   "outputs": [
    {
     "data": {
      "text/plain": [
       "array([[1., 0., 0.],\n",
       "       [0., 1., 0.],\n",
       "       [0., 0., 1.]])"
      ]
     },
     "execution_count": 14,
     "metadata": {},
     "output_type": "execute_result"
    }
   ],
   "source": [
    "P"
   ]
  },
  {
   "cell_type": "code",
   "execution_count": 15,
   "metadata": {},
   "outputs": [
    {
     "data": {
      "text/plain": [
       "array([[ 1. ,  0. ,  0. ],\n",
       "       [ 0.5,  1. ,  0. ],\n",
       "       [ 0.5, -0.2,  1. ]])"
      ]
     },
     "execution_count": 15,
     "metadata": {},
     "output_type": "execute_result"
    }
   ],
   "source": [
    "L"
   ]
  },
  {
   "cell_type": "code",
   "execution_count": 16,
   "metadata": {},
   "outputs": [
    {
     "data": {
      "text/plain": [
       "array([[ 2. ,  1. ,  1. ],\n",
       "       [ 0. ,  2.5,  1.5],\n",
       "       [ 0. ,  0. , -0.2]])"
      ]
     },
     "execution_count": 16,
     "metadata": {},
     "output_type": "execute_result"
    }
   ],
   "source": [
    "U"
   ]
  },
  {
   "cell_type": "code",
   "execution_count": 17,
   "metadata": {},
   "outputs": [
    {
     "data": {
      "text/plain": [
       "array([[ 2.00000000e+00,  1.00000000e+00,  1.00000000e+00],\n",
       "       [ 1.00000000e+00,  3.00000000e+00,  2.00000000e+00],\n",
       "       [ 1.00000000e+00, -2.77555756e-17,  2.77555756e-17]])"
      ]
     },
     "execution_count": 17,
     "metadata": {},
     "output_type": "execute_result"
    }
   ],
   "source": [
    "A_new = P.dot(L).dot(U)\n",
    "A_new"
   ]
  },
  {
   "cell_type": "markdown",
   "metadata": {},
   "source": [
    "## Câu 3: QR Decomposition (Gợi ý)\n",
    "- Tạo ma trận C(4x5) chứa các giá trị ngẫu nhiên trong khoảng 5 - 10\n",
    "- Phân tích thành các thành phần Q, R. In kết quả\n",
    "- Tái tạo ma trận D từ các thành phần Q, R. "
   ]
  },
  {
   "cell_type": "code",
   "execution_count": 18,
   "metadata": {},
   "outputs": [],
   "source": [
    "from numpy.linalg import qr"
   ]
  },
  {
   "cell_type": "code",
   "execution_count": 19,
   "metadata": {},
   "outputs": [
    {
     "data": {
      "text/plain": [
       "array([[ 6.,  6.,  7.,  9.,  8.],\n",
       "       [ 7., 10.,  5., 11.,  5.],\n",
       "       [ 8., 11.,  6., 10.,  6.],\n",
       "       [ 7., 11.,  7.,  5.,  8.]])"
      ]
     },
     "execution_count": 19,
     "metadata": {},
     "output_type": "execute_result"
    }
   ],
   "source": [
    "B = create_matrix_random(4, 5, 5, 10)\n",
    "B"
   ]
  },
  {
   "cell_type": "code",
   "execution_count": 20,
   "metadata": {},
   "outputs": [],
   "source": [
    "Q, R = qr(B, 'complete')"
   ]
  },
  {
   "cell_type": "code",
   "execution_count": 21,
   "metadata": {},
   "outputs": [
    {
     "data": {
      "text/plain": [
       "array([[-0.42640143,  0.8310223 ,  0.34330136, -0.09863023],\n",
       "       [-0.49746834, -0.15747683, -0.44566639, -0.72739794],\n",
       "       [-0.56853524, -0.01897311, -0.46541527,  0.67808283],\n",
       "       [-0.49746834, -0.53314445,  0.68331125,  0.03698634]])"
      ]
     },
     "execution_count": 21,
     "metadata": {},
     "output_type": "execute_result"
    }
   ],
   "source": [
    "Q"
   ]
  },
  {
   "cell_type": "code",
   "execution_count": 22,
   "metadata": {},
   "outputs": [
    {
     "data": {
      "text/plain": [
       "array([[-14.07124728, -19.25913138, -12.36564155, -17.48245874,\n",
       "        -13.28951132],\n",
       "       [  0.        ,  -2.66192761,   1.18392219,   2.89150226,\n",
       "          1.48180004],\n",
       "       [  0.        ,   0.        ,   2.1654647 ,  -3.05021452,\n",
       "          3.19207731],\n",
       "       [  0.        ,   0.        ,   0.        ,  -1.92328948,\n",
       "         -0.06164389]])"
      ]
     },
     "execution_count": 22,
     "metadata": {},
     "output_type": "execute_result"
    }
   ],
   "source": [
    "R"
   ]
  },
  {
   "cell_type": "code",
   "execution_count": 23,
   "metadata": {},
   "outputs": [],
   "source": [
    "C = Q.dot(R)"
   ]
  },
  {
   "cell_type": "code",
   "execution_count": 24,
   "metadata": {},
   "outputs": [
    {
     "data": {
      "text/plain": [
       "array([[ 6.,  6.,  7.,  9.,  8.],\n",
       "       [ 7., 10.,  5., 11.,  5.],\n",
       "       [ 8., 11.,  6., 10.,  6.],\n",
       "       [ 7., 11.,  7.,  5.,  8.]])"
      ]
     },
     "execution_count": 24,
     "metadata": {},
     "output_type": "execute_result"
    }
   ],
   "source": [
    "C"
   ]
  },
  {
   "cell_type": "markdown",
   "metadata": {},
   "source": [
    "## Câu 4: Cholesky Decomposition (Gợi ý)\n",
    "- Tạo ma trận E(3x3) vuông chứa các giá trị ngẫu nhiên trong khoảng 3 - 9.\n",
    "- Từ đó chuyển E thành ma trận vuông đối xứng theo tam giác dưới dường chéo chính\n",
    "- Kiểm tra nếu mọi thành phần đều không âm thì:\n",
    "    - Phân tích thành L. In kết quả\n",
    "    - Tái tạo ma trận F từ các thành phần L.L.T \n",
    "- Ngược lại thì thông báo E có thành phần âm\n",
    "- Chú ý: dùng np.linalg.eigvalsh(E) để kiểm tra xem mọi thành phần có âm hay không\n",
    "- Mở rộng: Thực hiện việc tạo ma trận vuông đối xứng với mọi thành phần đều không âm và phân tích."
   ]
  },
  {
   "cell_type": "code",
   "execution_count": 25,
   "metadata": {},
   "outputs": [],
   "source": [
    "from numpy.linalg import cholesky"
   ]
  },
  {
   "cell_type": "code",
   "execution_count": 26,
   "metadata": {},
   "outputs": [
    {
     "data": {
      "text/plain": [
       "array([[6., 8., 5.],\n",
       "       [3., 8., 5.],\n",
       "       [4., 9., 3.]])"
      ]
     },
     "execution_count": 26,
     "metadata": {},
     "output_type": "execute_result"
    }
   ],
   "source": [
    "E = create_matrix_random(3, 3, 3, 9)\n",
    "E"
   ]
  },
  {
   "cell_type": "code",
   "execution_count": 27,
   "metadata": {},
   "outputs": [
    {
     "data": {
      "text/plain": [
       "(3, 3)"
      ]
     },
     "execution_count": 27,
     "metadata": {},
     "output_type": "execute_result"
    }
   ],
   "source": [
    "E.shape"
   ]
  },
  {
   "cell_type": "code",
   "execution_count": 28,
   "metadata": {},
   "outputs": [
    {
     "data": {
      "text/plain": [
       "array([[6., 3., 4.],\n",
       "       [3., 8., 9.],\n",
       "       [4., 9., 3.]])"
      ]
     },
     "execution_count": 28,
     "metadata": {},
     "output_type": "execute_result"
    }
   ],
   "source": [
    "for i in range(E.shape[0]):\n",
    "    for j in range(i):\n",
    "        E[j][i] = E[i][j]\n",
    "E"
   ]
  },
  {
   "cell_type": "code",
   "execution_count": 29,
   "metadata": {},
   "outputs": [],
   "source": [
    "# Chú ý: Có 1 thành phần bị âm nên sẽ không tạo được L.\n",
    "# Kiểm tra mọi thành phần đều dương thì tạo L"
   ]
  },
  {
   "cell_type": "code",
   "execution_count": 30,
   "metadata": {},
   "outputs": [
    {
     "data": {
      "text/plain": [
       "array([-4.05308411,  4.08618749, 16.96689662])"
      ]
     },
     "execution_count": 30,
     "metadata": {},
     "output_type": "execute_result"
    }
   ],
   "source": [
    "test = np.linalg.eigvalsh(E)\n",
    "test"
   ]
  },
  {
   "cell_type": "code",
   "execution_count": 31,
   "metadata": {},
   "outputs": [],
   "source": [
    "flag = np.all(test>0)"
   ]
  },
  {
   "cell_type": "code",
   "execution_count": 32,
   "metadata": {},
   "outputs": [
    {
     "name": "stdout",
     "output_type": "stream",
     "text": [
      "E not positive definite\n"
     ]
    }
   ],
   "source": [
    "if flag==True:\n",
    "    L = cholesky(E)\n",
    "    print(L)\n",
    "    F = L.dot(L.T)\n",
    "else:\n",
    "    print('E not positive definite')"
   ]
  },
  {
   "cell_type": "code",
   "execution_count": 33,
   "metadata": {},
   "outputs": [],
   "source": [
    "def create_matrix_positive_definite(m, n, start, end):\n",
    "    E = None\n",
    "    flag = False\n",
    "    while flag == False:\n",
    "        E =  create_matrix_random(m, n, start, end)\n",
    "        for i in range(E.shape[0]):\n",
    "            for j in range(i):\n",
    "                E[j][i] = E[i][j]\n",
    "        test = np.linalg.eigvalsh(E)\n",
    "        flag = np.all(test>0)\n",
    "    return E"
   ]
  },
  {
   "cell_type": "code",
   "execution_count": 34,
   "metadata": {},
   "outputs": [
    {
     "data": {
      "text/plain": [
       "array([[8., 5., 6.],\n",
       "       [5., 8., 3.],\n",
       "       [6., 3., 6.]])"
      ]
     },
     "execution_count": 34,
     "metadata": {},
     "output_type": "execute_result"
    }
   ],
   "source": [
    "E = create_matrix_positive_definite(3, 3, 3, 9)\n",
    "E"
   ]
  },
  {
   "cell_type": "code",
   "execution_count": 35,
   "metadata": {},
   "outputs": [
    {
     "name": "stdout",
     "output_type": "stream",
     "text": [
      "[[ 2.82842712  0.          0.        ]\n",
      " [ 1.76776695  2.20794022  0.        ]\n",
      " [ 2.12132034 -0.33968311  1.17669681]]\n"
     ]
    }
   ],
   "source": [
    "L = cholesky(E)\n",
    "print(L)"
   ]
  },
  {
   "cell_type": "code",
   "execution_count": 36,
   "metadata": {},
   "outputs": [
    {
     "name": "stdout",
     "output_type": "stream",
     "text": [
      "[[8. 5. 6.]\n",
      " [5. 8. 3.]\n",
      " [6. 3. 6.]]\n"
     ]
    }
   ],
   "source": [
    "F = L.dot(L.T)\n",
    "print(F)"
   ]
  },
  {
   "cell_type": "code",
   "execution_count": null,
   "metadata": {},
   "outputs": [],
   "source": []
  }
 ],
 "metadata": {
  "kernelspec": {
   "display_name": "Python 3",
   "language": "python",
   "name": "python3"
  },
  "language_info": {
   "codemirror_mode": {
    "name": "ipython",
    "version": 3
   },
   "file_extension": ".py",
   "mimetype": "text/x-python",
   "name": "python",
   "nbconvert_exporter": "python",
   "pygments_lexer": "ipython3",
   "version": "3.6.8"
  }
 },
 "nbformat": 4,
 "nbformat_minor": 2
}
