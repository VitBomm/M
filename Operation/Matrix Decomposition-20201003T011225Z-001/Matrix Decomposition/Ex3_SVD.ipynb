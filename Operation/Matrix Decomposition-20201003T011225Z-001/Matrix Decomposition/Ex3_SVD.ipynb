{
 "cells": [
  {
   "cell_type": "markdown",
   "metadata": {},
   "source": [
    "# Ex3: SVD"
   ]
  },
  {
   "cell_type": "markdown",
   "metadata": {},
   "source": [
    "## Câu 1: \n",
    "- Cho tập tin ex3.csv. Đọc tập tin vào dataframe\n",
    "- Từ datafarme, sử dụng SVD để phân tích thành các thành phần U,s,VT\n",
    "- Tạo dataframe mới từ các thành phần đã phân tích, nhưng có nhận xét và rút thành phần nếu có thể. \n",
    "- Tìm error nếu có rút thành phần"
   ]
  },
  {
   "cell_type": "markdown",
   "metadata": {},
   "source": [
    "## Câu 2: \n",
    "- Cho tập tin iris.csv, đọc dữ liệu ra dataframe và chỉ lấy 4 cột đầu\n",
    "- Từ datafarme, sử dụng SVD để phân tích thành các thành phần U, s, VT\n",
    "- Tạo dataframe mới từ các thành phần đã phân tích, nhưng có nhận xét và rút thành phần nếu có thể. \n",
    "- Tìm error nếu có rút thành phần\n",
    "- Tái cấu trúc dataframe theo U, s, VT (giữ nguyên tất cả các thành phần)"
   ]
  },
  {
   "cell_type": "markdown",
   "metadata": {},
   "source": [
    "## Câu 3: \n",
    "- Tạo ma trận A(4x6) với các giá trị ngẫu nhiên từ 1 đến 10 \n",
    "- Tạo ma trận giả đảo B từ ma trận A"
   ]
  },
  {
   "cell_type": "markdown",
   "metadata": {},
   "source": [
    "## Câu 1: Gợi ý"
   ]
  },
  {
   "cell_type": "code",
   "execution_count": 1,
   "metadata": {},
   "outputs": [],
   "source": [
    "import pandas as pd\n",
    "import numpy as np"
   ]
  },
  {
   "cell_type": "code",
   "execution_count": 2,
   "metadata": {},
   "outputs": [
    {
     "data": {
      "text/html": [
       "<div>\n",
       "<style scoped>\n",
       "    .dataframe tbody tr th:only-of-type {\n",
       "        vertical-align: middle;\n",
       "    }\n",
       "\n",
       "    .dataframe tbody tr th {\n",
       "        vertical-align: top;\n",
       "    }\n",
       "\n",
       "    .dataframe thead th {\n",
       "        text-align: right;\n",
       "    }\n",
       "</style>\n",
       "<table border=\"1\" class=\"dataframe\">\n",
       "  <thead>\n",
       "    <tr style=\"text-align: right;\">\n",
       "      <th></th>\n",
       "      <th>post1</th>\n",
       "      <th>post2</th>\n",
       "      <th>post3</th>\n",
       "      <th>post4</th>\n",
       "    </tr>\n",
       "    <tr>\n",
       "      <th>word</th>\n",
       "      <th></th>\n",
       "      <th></th>\n",
       "      <th></th>\n",
       "      <th></th>\n",
       "    </tr>\n",
       "  </thead>\n",
       "  <tbody>\n",
       "    <tr>\n",
       "      <th>ice</th>\n",
       "      <td>4</td>\n",
       "      <td>4</td>\n",
       "      <td>6</td>\n",
       "      <td>2</td>\n",
       "    </tr>\n",
       "    <tr>\n",
       "      <th>snow</th>\n",
       "      <td>6</td>\n",
       "      <td>1</td>\n",
       "      <td>0</td>\n",
       "      <td>5</td>\n",
       "    </tr>\n",
       "    <tr>\n",
       "      <th>tahoe</th>\n",
       "      <td>3</td>\n",
       "      <td>0</td>\n",
       "      <td>0</td>\n",
       "      <td>5</td>\n",
       "    </tr>\n",
       "    <tr>\n",
       "      <th>goal</th>\n",
       "      <td>0</td>\n",
       "      <td>6</td>\n",
       "      <td>5</td>\n",
       "      <td>1</td>\n",
       "    </tr>\n",
       "    <tr>\n",
       "      <th>puck</th>\n",
       "      <td>0</td>\n",
       "      <td>4</td>\n",
       "      <td>5</td>\n",
       "      <td>0</td>\n",
       "    </tr>\n",
       "  </tbody>\n",
       "</table>\n",
       "</div>"
      ],
      "text/plain": [
       "       post1  post2  post3  post4\n",
       "word                             \n",
       "ice        4      4      6      2\n",
       "snow       6      1      0      5\n",
       "tahoe      3      0      0      5\n",
       "goal       0      6      5      1\n",
       "puck       0      4      5      0"
      ]
     },
     "execution_count": 2,
     "metadata": {},
     "output_type": "execute_result"
    }
   ],
   "source": [
    "df = pd.read_csv(\"ex3.csv\", index_col=0)\n",
    "df"
   ]
  },
  {
   "cell_type": "code",
   "execution_count": 3,
   "metadata": {},
   "outputs": [],
   "source": [
    "# Decomposition\n",
    "U, s, VT = np.linalg.svd(df)"
   ]
  },
  {
   "cell_type": "code",
   "execution_count": 4,
   "metadata": {},
   "outputs": [
    {
     "data": {
      "text/plain": [
       "array([[-0.62610079,  0.01852561,  0.6259093 ,  0.23487748, -0.40090488],\n",
       "       [-0.35134826, -0.67829097,  0.0779915 , -0.56006159,  0.311005  ],\n",
       "       [-0.21940528, -0.51980146, -0.50346468,  0.6484906 , -0.08747016],\n",
       "       [-0.51965373,  0.37026259, -0.59046979, -0.38005352, -0.31586445],\n",
       "       [-0.40788911,  0.36371724, -0.00485878,  0.25726028,  0.79695031]])"
      ]
     },
     "execution_count": 4,
     "metadata": {},
     "output_type": "execute_result"
    }
   ],
   "source": [
    "U"
   ]
  },
  {
   "cell_type": "code",
   "execution_count": 5,
   "metadata": {},
   "outputs": [
    {
     "data": {
      "text/plain": [
       "array([13.3221948 ,  9.2609512 ,  2.41918664,  1.37892883])"
      ]
     },
     "execution_count": 5,
     "metadata": {},
     "output_type": "execute_result"
    }
   ],
   "source": [
    "s"
   ]
  },
  {
   "cell_type": "code",
   "execution_count": 6,
   "metadata": {},
   "outputs": [
    {
     "data": {
      "text/plain": [
       "array([[-0.39563365, -0.57086917, -0.6301003 , -0.34721178],\n",
       "       [-0.59983555,  0.33174302,  0.4082791 , -0.60286986],\n",
       "       [ 0.60400142, -0.40535325,  0.32193174, -0.60599586],\n",
       "       [-0.34475152, -0.63225288,  0.57675103,  0.38569539]])"
      ]
     },
     "execution_count": 6,
     "metadata": {},
     "output_type": "execute_result"
    }
   ],
   "source": [
    "VT"
   ]
  },
  {
   "cell_type": "code",
   "execution_count": 7,
   "metadata": {},
   "outputs": [
    {
     "data": {
      "text/html": [
       "<div>\n",
       "<style scoped>\n",
       "    .dataframe tbody tr th:only-of-type {\n",
       "        vertical-align: middle;\n",
       "    }\n",
       "\n",
       "    .dataframe tbody tr th {\n",
       "        vertical-align: top;\n",
       "    }\n",
       "\n",
       "    .dataframe thead th {\n",
       "        text-align: right;\n",
       "    }\n",
       "</style>\n",
       "<table border=\"1\" class=\"dataframe\">\n",
       "  <thead>\n",
       "    <tr style=\"text-align: right;\">\n",
       "      <th></th>\n",
       "      <th>post1</th>\n",
       "      <th>post2</th>\n",
       "      <th>post3</th>\n",
       "      <th>post4</th>\n",
       "    </tr>\n",
       "  </thead>\n",
       "  <tbody>\n",
       "    <tr>\n",
       "      <th>0</th>\n",
       "      <td>-0.395634</td>\n",
       "      <td>-0.570869</td>\n",
       "      <td>-0.630100</td>\n",
       "      <td>-0.347212</td>\n",
       "    </tr>\n",
       "    <tr>\n",
       "      <th>1</th>\n",
       "      <td>-0.599836</td>\n",
       "      <td>0.331743</td>\n",
       "      <td>0.408279</td>\n",
       "      <td>-0.602870</td>\n",
       "    </tr>\n",
       "    <tr>\n",
       "      <th>2</th>\n",
       "      <td>0.604001</td>\n",
       "      <td>-0.405353</td>\n",
       "      <td>0.321932</td>\n",
       "      <td>-0.605996</td>\n",
       "    </tr>\n",
       "    <tr>\n",
       "      <th>3</th>\n",
       "      <td>-0.344752</td>\n",
       "      <td>-0.632253</td>\n",
       "      <td>0.576751</td>\n",
       "      <td>0.385695</td>\n",
       "    </tr>\n",
       "  </tbody>\n",
       "</table>\n",
       "</div>"
      ],
      "text/plain": [
       "      post1     post2     post3     post4\n",
       "0 -0.395634 -0.570869 -0.630100 -0.347212\n",
       "1 -0.599836  0.331743  0.408279 -0.602870\n",
       "2  0.604001 -0.405353  0.321932 -0.605996\n",
       "3 -0.344752 -0.632253  0.576751  0.385695"
      ]
     },
     "execution_count": 7,
     "metadata": {},
     "output_type": "execute_result"
    }
   ],
   "source": [
    "c_names = ['post1', 'post2', 'post3', 'post4']\n",
    "words = ['ice', 'snow', 'tahoe', 'goal', 'puck']\n",
    "V_df = pd.DataFrame(VT, columns=c_names)\n",
    "V_df"
   ]
  },
  {
   "cell_type": "markdown",
   "metadata": {},
   "source": [
    "- σ1 và σ2 có cường độ lớn hơn σ3 và σ4, chỉ ra rằng các giá trị trong hai hàng đầu tiên của V quan trọng hơn nhiều so với các giá trị trong hai giá trị cuối cùng. Trong thực tế, chúng ta có thể tái tạo df chỉ bằng hai hàng đầu tiên của V và hai cột đầu tiên của U:"
   ]
  },
  {
   "cell_type": "code",
   "execution_count": 12,
   "metadata": {},
   "outputs": [
    {
     "data": {
      "text/plain": [
       "array([[-0.62610079,  0.01852561],\n",
       "       [-0.35134826, -0.67829097],\n",
       "       [-0.21940528, -0.51980146],\n",
       "       [-0.51965373,  0.37026259],\n",
       "       [-0.40788911,  0.36371724]])"
      ]
     },
     "execution_count": 12,
     "metadata": {},
     "output_type": "execute_result"
    }
   ],
   "source": [
    "U[:, :2]"
   ]
  },
  {
   "cell_type": "code",
   "execution_count": 11,
   "metadata": {},
   "outputs": [
    {
     "data": {
      "text/plain": [
       "array([[13.3221948,  0.       ],\n",
       "       [ 0.       ,  9.2609512]])"
      ]
     },
     "execution_count": 11,
     "metadata": {},
     "output_type": "execute_result"
    }
   ],
   "source": [
    "np.diag(s[:2])"
   ]
  },
  {
   "cell_type": "code",
   "execution_count": 14,
   "metadata": {},
   "outputs": [
    {
     "data": {
      "text/plain": [
       "array([[-8.34103663,  0.17156477],\n",
       "       [-4.68072998, -6.28161954],\n",
       "       [-2.92295986, -4.81385592],\n",
       "       [-6.92292828,  3.42898376],\n",
       "       [-5.43397817,  3.36836757]])"
      ]
     },
     "execution_count": 14,
     "metadata": {},
     "output_type": "execute_result"
    }
   ],
   "source": [
    "U[:, :2].dot(np.diag(s[:2]))"
   ]
  },
  {
   "cell_type": "code",
   "execution_count": 15,
   "metadata": {},
   "outputs": [
    {
     "data": {
      "text/plain": [
       "array([[-0.39563365, -0.57086917, -0.6301003 , -0.34721178],\n",
       "       [-0.59983555,  0.33174302,  0.4082791 , -0.60286986]])"
      ]
     },
     "execution_count": 15,
     "metadata": {},
     "output_type": "execute_result"
    }
   ],
   "source": [
    "VT[:2, :]"
   ]
  },
  {
   "cell_type": "code",
   "execution_count": 9,
   "metadata": {},
   "outputs": [
    {
     "name": "stdout",
     "output_type": "stream",
     "text": [
      "A calculated using only the first two components:\n",
      "\n",
      "          post1     post2     post3     post4\n",
      "ice    3.197084  4.818556  5.325736  2.792675\n",
      "snow   5.619793  0.588201  0.384675  5.412204\n",
      "tahoe  4.043943  0.071665 -0.123639  3.917015\n",
      "goal   0.682117  5.089628  5.762122  0.336491\n",
      "puck   0.129398  4.219523  4.799185 -0.143946\n",
      "\n",
      "Error from actual value:\n",
      "\n",
      "          post1     post2     post3     post4\n",
      "word                                         \n",
      "ice    0.802916 -0.818556  0.674264 -0.792675\n",
      "snow   0.380207  0.411799 -0.384675 -0.412204\n",
      "tahoe -1.043943 -0.071665  0.123639  1.082985\n",
      "goal  -0.682117  0.910372 -0.762122  0.663509\n",
      "puck  -0.129398 -0.219523  0.200815  0.143946\n"
     ]
    }
   ],
   "source": [
    "A_approx = np.matrix(U[:, :2]) * np.diag(s[:2]) * np.matrix(VT[:2, :])\n",
    "\n",
    "print(\"A calculated using only the first two components:\\n\")\n",
    "print(pd.DataFrame(A_approx, index=words, columns=c_names))\n",
    "print(\"\\nError from actual value:\\n\")\n",
    "print(df - A_approx)"
   ]
  },
  {
   "cell_type": "code",
   "execution_count": 10,
   "metadata": {},
   "outputs": [
    {
     "data": {
      "text/plain": [
       "<matplotlib.colorbar.Colorbar at 0x7f66d0133070>"
      ]
     },
     "execution_count": 10,
     "metadata": {},
     "output_type": "execute_result"
    },
    {
     "data": {
      "image/png": "[encoded data removed]",
      "text/plain": [
       "<Figure size 432x288 with 2 Axes>"
      ]
     },
     "metadata": {
      "needs_background": "light"
     },
     "output_type": "display_data"
    }
   ],
   "source": [
    "import matplotlib.pyplot as plt\n",
    "\n",
    "plt.imshow(VT, interpolation='none')\n",
    "plt.xticks(range(len(c_names)))\n",
    "plt.yticks(range(len(words)))\n",
    "plt.ylim([len(words) - 1.5, -.5])\n",
    "ax = plt.gca()\n",
    "ax.set_xticklabels(c_names)\n",
    "ax.set_yticklabels(range(1, len(words) + 1))\n",
    "plt.title(\"$V$\")\n",
    "plt.colorbar()"
   ]
  },
  {
   "cell_type": "code",
   "execution_count": 10,
   "metadata": {},
   "outputs": [
    {
     "data": {
      "text/plain": [
       "array([[-0.39563365, -0.57086917, -0.6301003 , -0.34721178],\n",
       "       [-0.59983555,  0.33174302,  0.4082791 , -0.60286986],\n",
       "       [ 0.60400142, -0.40535325,  0.32193174, -0.60599586],\n",
       "       [-0.34475152, -0.63225288,  0.57675103,  0.38569539]])"
      ]
     },
     "execution_count": 10,
     "metadata": {},
     "output_type": "execute_result"
    }
   ],
   "source": [
    "VT"
   ]
  },
  {
   "cell_type": "code",
   "execution_count": 11,
   "metadata": {},
   "outputs": [
    {
     "data": {
      "text/plain": [
       "<matplotlib.colorbar.Colorbar at 0x1d0f817fe48>"
      ]
     },
     "execution_count": 11,
     "metadata": {},
     "output_type": "execute_result"
    },
    {
     "data": {
      "image/png": "[encoded data removed]",
      "text/plain": [
       "<Figure size 432x288 with 2 Axes>"
      ]
     },
     "metadata": {
      "needs_background": "light"
     },
     "output_type": "display_data"
    }
   ],
   "source": [
    "import matplotlib.pyplot as plt\n",
    "\n",
    "plt.imshow(VT, interpolation='none')\n",
    "\n",
    "plt.xticks(range(len(c_names)))\n",
    "plt.yticks(range(len(words)))\n",
    "plt.ylim([len(words) - 1.5, -.5])\n",
    "ax = plt.gca()\n",
    "ax.set_xticklabels(c_names)\n",
    "ax.set_yticklabels(range(1, len(words) + 1))\n",
    "\n",
    "plt.title(\"$V$\")\n",
    "plt.colorbar()\n"
   ]
  },
  {
   "cell_type": "markdown",
   "metadata": {},
   "source": [
    "## Câu 2: Gợi ý\n",
    "- Cho tập tin iris.csv, đọc dữ liệu ra dataframe và chỉ lấy 4 cột đầu\n",
    "- Từ datafarme, sử dụng SVD để phân tích thành các thành phần U, s, VT\n",
    "- Tạo dataframe mới từ các thành phần đã phân tích, nhưng có nhận xét và rút thành phần nếu có thể. \n",
    "- Tìm error nếu có rút thành phần\n",
    "- Tái cấu trúc dataframe theo U, s, VT (giữ nguyên tất cả các thành phần)"
   ]
  },
  {
   "cell_type": "code",
   "execution_count": 12,
   "metadata": {},
   "outputs": [
    {
     "data": {
      "text/html": [
       "<div>\n",
       "<style scoped>\n",
       "    .dataframe tbody tr th:only-of-type {\n",
       "        vertical-align: middle;\n",
       "    }\n",
       "\n",
       "    .dataframe tbody tr th {\n",
       "        vertical-align: top;\n",
       "    }\n",
       "\n",
       "    .dataframe thead th {\n",
       "        text-align: right;\n",
       "    }\n",
       "</style>\n",
       "<table border=\"1\" class=\"dataframe\">\n",
       "  <thead>\n",
       "    <tr style=\"text-align: right;\">\n",
       "      <th></th>\n",
       "      <th>sepal_length</th>\n",
       "      <th>sepal_width</th>\n",
       "      <th>petal_length</th>\n",
       "      <th>petal_width</th>\n",
       "      <th>species</th>\n",
       "    </tr>\n",
       "  </thead>\n",
       "  <tbody>\n",
       "    <tr>\n",
       "      <th>0</th>\n",
       "      <td>5.1</td>\n",
       "      <td>3.5</td>\n",
       "      <td>1.4</td>\n",
       "      <td>0.2</td>\n",
       "      <td>setosa</td>\n",
       "    </tr>\n",
       "    <tr>\n",
       "      <th>1</th>\n",
       "      <td>4.9</td>\n",
       "      <td>3.0</td>\n",
       "      <td>1.4</td>\n",
       "      <td>0.2</td>\n",
       "      <td>setosa</td>\n",
       "    </tr>\n",
       "    <tr>\n",
       "      <th>2</th>\n",
       "      <td>4.7</td>\n",
       "      <td>3.2</td>\n",
       "      <td>1.3</td>\n",
       "      <td>0.2</td>\n",
       "      <td>setosa</td>\n",
       "    </tr>\n",
       "    <tr>\n",
       "      <th>3</th>\n",
       "      <td>4.6</td>\n",
       "      <td>3.1</td>\n",
       "      <td>1.5</td>\n",
       "      <td>0.2</td>\n",
       "      <td>setosa</td>\n",
       "    </tr>\n",
       "    <tr>\n",
       "      <th>4</th>\n",
       "      <td>5.0</td>\n",
       "      <td>3.6</td>\n",
       "      <td>1.4</td>\n",
       "      <td>0.2</td>\n",
       "      <td>setosa</td>\n",
       "    </tr>\n",
       "  </tbody>\n",
       "</table>\n",
       "</div>"
      ],
      "text/plain": [
       "   sepal_length  sepal_width  petal_length  petal_width species\n",
       "0           5.1          3.5           1.4          0.2  setosa\n",
       "1           4.9          3.0           1.4          0.2  setosa\n",
       "2           4.7          3.2           1.3          0.2  setosa\n",
       "3           4.6          3.1           1.5          0.2  setosa\n",
       "4           5.0          3.6           1.4          0.2  setosa"
      ]
     },
     "execution_count": 12,
     "metadata": {},
     "output_type": "execute_result"
    }
   ],
   "source": [
    "iris = pd.read_csv(\"iris.csv\")\n",
    "iris.head()"
   ]
  },
  {
   "cell_type": "code",
   "execution_count": 13,
   "metadata": {},
   "outputs": [
    {
     "data": {
      "text/html": [
       "<div>\n",
       "<style scoped>\n",
       "    .dataframe tbody tr th:only-of-type {\n",
       "        vertical-align: middle;\n",
       "    }\n",
       "\n",
       "    .dataframe tbody tr th {\n",
       "        vertical-align: top;\n",
       "    }\n",
       "\n",
       "    .dataframe thead th {\n",
       "        text-align: right;\n",
       "    }\n",
       "</style>\n",
       "<table border=\"1\" class=\"dataframe\">\n",
       "  <thead>\n",
       "    <tr style=\"text-align: right;\">\n",
       "      <th></th>\n",
       "      <th>sepal_length</th>\n",
       "      <th>sepal_width</th>\n",
       "      <th>petal_length</th>\n",
       "      <th>petal_width</th>\n",
       "    </tr>\n",
       "  </thead>\n",
       "  <tbody>\n",
       "    <tr>\n",
       "      <th>0</th>\n",
       "      <td>5.1</td>\n",
       "      <td>3.5</td>\n",
       "      <td>1.4</td>\n",
       "      <td>0.2</td>\n",
       "    </tr>\n",
       "    <tr>\n",
       "      <th>1</th>\n",
       "      <td>4.9</td>\n",
       "      <td>3.0</td>\n",
       "      <td>1.4</td>\n",
       "      <td>0.2</td>\n",
       "    </tr>\n",
       "    <tr>\n",
       "      <th>2</th>\n",
       "      <td>4.7</td>\n",
       "      <td>3.2</td>\n",
       "      <td>1.3</td>\n",
       "      <td>0.2</td>\n",
       "    </tr>\n",
       "    <tr>\n",
       "      <th>3</th>\n",
       "      <td>4.6</td>\n",
       "      <td>3.1</td>\n",
       "      <td>1.5</td>\n",
       "      <td>0.2</td>\n",
       "    </tr>\n",
       "    <tr>\n",
       "      <th>4</th>\n",
       "      <td>5.0</td>\n",
       "      <td>3.6</td>\n",
       "      <td>1.4</td>\n",
       "      <td>0.2</td>\n",
       "    </tr>\n",
       "  </tbody>\n",
       "</table>\n",
       "</div>"
      ],
      "text/plain": [
       "   sepal_length  sepal_width  petal_length  petal_width\n",
       "0           5.1          3.5           1.4          0.2\n",
       "1           4.9          3.0           1.4          0.2\n",
       "2           4.7          3.2           1.3          0.2\n",
       "3           4.6          3.1           1.5          0.2\n",
       "4           5.0          3.6           1.4          0.2"
      ]
     },
     "execution_count": 13,
     "metadata": {},
     "output_type": "execute_result"
    }
   ],
   "source": [
    "X = iris[['sepal_length','sepal_width','petal_length','petal_width']]\n",
    "X.head()"
   ]
  },
  {
   "cell_type": "code",
   "execution_count": 14,
   "metadata": {},
   "outputs": [],
   "source": [
    "# Decomposition\n",
    "U, s, VT = np.linalg.svd(X)"
   ]
  },
  {
   "cell_type": "code",
   "execution_count": 15,
   "metadata": {},
   "outputs": [
    {
     "data": {
      "text/plain": [
       "array([[-6.16171172e-02,  1.29969428e-01, -5.58364155e-05, ...,\n",
       "        -9.34637342e-02, -9.60224157e-02, -8.09922905e-02],\n",
       "       [-5.80722977e-02,  1.11371452e-01,  6.84386629e-02, ...,\n",
       "         3.66755322e-02, -3.24463474e-02,  1.27273399e-02],\n",
       "       [-5.67633852e-02,  1.18294769e-01,  2.31062793e-03, ...,\n",
       "         3.08252776e-02,  1.95234663e-01,  1.35567696e-01],\n",
       "       ...,\n",
       "       [-9.40702260e-02, -4.98348018e-02, -4.14958083e-02, ...,\n",
       "         9.81822841e-01, -2.17978813e-02, -8.85972146e-03],\n",
       "       [-9.48993908e-02, -5.62107520e-02, -2.12386574e-01, ...,\n",
       "        -2.14264126e-02,  9.42038920e-01, -2.96933496e-02],\n",
       "       [-8.84882764e-02, -5.16210172e-02, -9.51442925e-02, ...,\n",
       "        -8.52768485e-03, -3.02139863e-02,  9.73577349e-01]])"
      ]
     },
     "execution_count": 15,
     "metadata": {},
     "output_type": "execute_result"
    }
   ],
   "source": [
    "U"
   ]
  },
  {
   "cell_type": "code",
   "execution_count": 16,
   "metadata": {},
   "outputs": [
    {
     "data": {
      "text/plain": [
       "array([95.95066751, 17.72295328,  3.46929666,  1.87891236])"
      ]
     },
     "execution_count": 16,
     "metadata": {},
     "output_type": "execute_result"
    }
   ],
   "source": [
    "s"
   ]
  },
  {
   "cell_type": "code",
   "execution_count": 17,
   "metadata": {},
   "outputs": [
    {
     "data": {
      "text/plain": [
       "array([[-0.75116805, -0.37978837, -0.51315094, -0.16787934],\n",
       "       [ 0.28583096,  0.54488976, -0.70889874, -0.34475845],\n",
       "       [ 0.49942378, -0.67502499, -0.05471983, -0.54029889],\n",
       "       [ 0.32345496, -0.32124324, -0.48077482,  0.74902286]])"
      ]
     },
     "execution_count": 17,
     "metadata": {},
     "output_type": "execute_result"
    }
   ],
   "source": [
    "VT"
   ]
  },
  {
   "cell_type": "markdown",
   "metadata": {},
   "source": [
    "- σ1 và σ2 có cường độ lớn hơn σ3 và σ4, chỉ ra rằng các giá trị trong hai hàng đầu tiên của V quan trọng hơn nhiều so với các giá trị trong hai giá trị cuối cùng. Trong thực tế, chúng ta có thể tái tạo df chỉ bằng hai hàng đầu tiên của V và hai cột đầu tiên của U:"
   ]
  },
  {
   "cell_type": "code",
   "execution_count": 18,
   "metadata": {},
   "outputs": [
    {
     "data": {
      "text/plain": [
       "matrix([[5.09945346, 3.50050812, 1.40094556, 0.19840569],\n",
       "        [4.74974728, 3.19172985, 1.46006954, 0.25494146],\n",
       "        [4.69047924, 3.2108907 , 1.30863935, 0.1915549 ],\n",
       "        [4.61834831, 3.08439659, 1.46266616, 0.26731753],\n",
       "        [5.07896131, 3.5005194 , 1.36352353, 0.18323972]])"
      ]
     },
     "execution_count": 18,
     "metadata": {},
     "output_type": "execute_result"
    }
   ],
   "source": [
    "# Using 2 first component\n",
    "X1 = np.matrix(U[:, :2]) * np.diag(s[:2]) * np.matrix(VT[:2, :])\n",
    "X1[0:5]"
   ]
  },
  {
   "cell_type": "code",
   "execution_count": 19,
   "metadata": {},
   "outputs": [
    {
     "data": {
      "text/plain": [
       "(150, 4)"
      ]
     },
     "execution_count": 19,
     "metadata": {},
     "output_type": "execute_result"
    }
   ],
   "source": [
    "X1.shape"
   ]
  },
  {
   "cell_type": "code",
   "execution_count": 20,
   "metadata": {},
   "outputs": [
    {
     "name": "stdout",
     "output_type": "stream",
     "text": [
      "A calculated using only the first two components:\n",
      "\n",
      "   sepal_length  sepal_width  petal_length  petal_width\n",
      "0      5.099453     3.500508      1.400946     0.198406\n",
      "1      4.749747     3.191730      1.460070     0.254941\n",
      "2      4.690479     3.210891      1.308639     0.191555\n",
      "3      4.618348     3.084397      1.462666     0.267318\n",
      "4      5.078961     3.500519      1.363524     0.183240\n"
     ]
    }
   ],
   "source": [
    "print(\"A calculated using only the first two components:\\n\")\n",
    "Xnew = pd.DataFrame(X1, index = X.index, columns=X.columns)\n",
    "print(Xnew.head())"
   ]
  },
  {
   "cell_type": "code",
   "execution_count": 21,
   "metadata": {},
   "outputs": [
    {
     "name": "stdout",
     "output_type": "stream",
     "text": [
      "\n",
      "Error from actual value:\n",
      "\n",
      "   sepal_length  sepal_width  petal_length  petal_width\n",
      "0      0.000547    -0.000508     -0.000946     0.001594\n",
      "1      0.150253    -0.191730     -0.060070    -0.054941\n",
      "2      0.009521    -0.010891     -0.008639     0.008445\n",
      "3     -0.018348     0.015603      0.037334    -0.067318\n",
      "4     -0.078961     0.099481      0.036476     0.016760\n"
     ]
    }
   ],
   "source": [
    "print(\"\\nError from actual value:\\n\")\n",
    "print((X - X1).head())"
   ]
  },
  {
   "cell_type": "code",
   "execution_count": 22,
   "metadata": {},
   "outputs": [
    {
     "data": {
      "text/plain": [
       "(150, 4)"
      ]
     },
     "execution_count": 22,
     "metadata": {},
     "output_type": "execute_result"
    }
   ],
   "source": [
    "# Reconstruct dataframe\n",
    "Sigma = np.zeros((X.shape[0], X.shape[1]))\n",
    "Sigma[:X.shape[1], :X.shape[1]] = np.diag(s)\n",
    "Sigma.shape"
   ]
  },
  {
   "cell_type": "code",
   "execution_count": 23,
   "metadata": {},
   "outputs": [
    {
     "data": {
      "text/plain": [
       "array([[5.1, 3.5, 1.4, 0.2],\n",
       "       [4.9, 3. , 1.4, 0.2],\n",
       "       [4.7, 3.2, 1.3, 0.2],\n",
       "       [4.6, 3.1, 1.5, 0.2],\n",
       "       [5. , 3.6, 1.4, 0.2]])"
      ]
     },
     "execution_count": 23,
     "metadata": {},
     "output_type": "execute_result"
    }
   ],
   "source": [
    "X_c = U.dot(Sigma.dot(VT))\n",
    "X_c[0:5]"
   ]
  },
  {
   "cell_type": "code",
   "execution_count": 24,
   "metadata": {},
   "outputs": [
    {
     "data": {
      "text/html": [
       "<div>\n",
       "<style scoped>\n",
       "    .dataframe tbody tr th:only-of-type {\n",
       "        vertical-align: middle;\n",
       "    }\n",
       "\n",
       "    .dataframe tbody tr th {\n",
       "        vertical-align: top;\n",
       "    }\n",
       "\n",
       "    .dataframe thead th {\n",
       "        text-align: right;\n",
       "    }\n",
       "</style>\n",
       "<table border=\"1\" class=\"dataframe\">\n",
       "  <thead>\n",
       "    <tr style=\"text-align: right;\">\n",
       "      <th></th>\n",
       "      <th>sepal_length</th>\n",
       "      <th>sepal_width</th>\n",
       "      <th>petal_length</th>\n",
       "      <th>petal_width</th>\n",
       "    </tr>\n",
       "  </thead>\n",
       "  <tbody>\n",
       "    <tr>\n",
       "      <th>0</th>\n",
       "      <td>5.1</td>\n",
       "      <td>3.5</td>\n",
       "      <td>1.4</td>\n",
       "      <td>0.2</td>\n",
       "    </tr>\n",
       "    <tr>\n",
       "      <th>1</th>\n",
       "      <td>4.9</td>\n",
       "      <td>3.0</td>\n",
       "      <td>1.4</td>\n",
       "      <td>0.2</td>\n",
       "    </tr>\n",
       "    <tr>\n",
       "      <th>2</th>\n",
       "      <td>4.7</td>\n",
       "      <td>3.2</td>\n",
       "      <td>1.3</td>\n",
       "      <td>0.2</td>\n",
       "    </tr>\n",
       "    <tr>\n",
       "      <th>3</th>\n",
       "      <td>4.6</td>\n",
       "      <td>3.1</td>\n",
       "      <td>1.5</td>\n",
       "      <td>0.2</td>\n",
       "    </tr>\n",
       "    <tr>\n",
       "      <th>4</th>\n",
       "      <td>5.0</td>\n",
       "      <td>3.6</td>\n",
       "      <td>1.4</td>\n",
       "      <td>0.2</td>\n",
       "    </tr>\n",
       "  </tbody>\n",
       "</table>\n",
       "</div>"
      ],
      "text/plain": [
       "   sepal_length  sepal_width  petal_length  petal_width\n",
       "0           5.1          3.5           1.4          0.2\n",
       "1           4.9          3.0           1.4          0.2\n",
       "2           4.7          3.2           1.3          0.2\n",
       "3           4.6          3.1           1.5          0.2\n",
       "4           5.0          3.6           1.4          0.2"
      ]
     },
     "execution_count": 24,
     "metadata": {},
     "output_type": "execute_result"
    }
   ],
   "source": [
    "X_c_new = pd.DataFrame(X_c, columns=X.columns)\n",
    "X_c_new.head()"
   ]
  },
  {
   "cell_type": "markdown",
   "metadata": {},
   "source": [
    "## Câu 3: Gợi ý\n",
    "- Tạo ma trận A(4x6) với các giá trị ngẫu nhiên từ 1 đến 10 \n",
    "- Tạo ma trận giả đảo B từ ma trận A"
   ]
  },
  {
   "cell_type": "code",
   "execution_count": 25,
   "metadata": {},
   "outputs": [
    {
     "data": {
      "text/plain": [
       "array([[ 2,  1,  5,  1,  7,  1],\n",
       "       [ 9,  1,  5,  1,  2,  8],\n",
       "       [ 4,  8,  4,  8, 10,  4],\n",
       "       [ 6,  2,  7,  3,  6,  8]])"
      ]
     },
     "execution_count": 25,
     "metadata": {},
     "output_type": "execute_result"
    }
   ],
   "source": [
    "A = np.random.randint(1,11,(4,6))\n",
    "A"
   ]
  },
  {
   "cell_type": "code",
   "execution_count": 26,
   "metadata": {},
   "outputs": [],
   "source": [
    "U, s, VT = np.linalg.svd(A)"
   ]
  },
  {
   "cell_type": "code",
   "execution_count": 27,
   "metadata": {},
   "outputs": [
    {
     "data": {
      "text/plain": [
       "array([0.0409687 , 0.09731761, 0.19550464, 0.5379748 ])"
      ]
     },
     "execution_count": 27,
     "metadata": {},
     "output_type": "execute_result"
    }
   ],
   "source": [
    "d = 1.0/s\n",
    "d"
   ]
  },
  {
   "cell_type": "code",
   "execution_count": 28,
   "metadata": {},
   "outputs": [
    {
     "data": {
      "text/plain": [
       "array([[0., 0., 0., 0., 0., 0.],\n",
       "       [0., 0., 0., 0., 0., 0.],\n",
       "       [0., 0., 0., 0., 0., 0.],\n",
       "       [0., 0., 0., 0., 0., 0.]])"
      ]
     },
     "execution_count": 28,
     "metadata": {},
     "output_type": "execute_result"
    }
   ],
   "source": [
    "D = np.zeros(A.shape)\n",
    "D"
   ]
  },
  {
   "cell_type": "code",
   "execution_count": 29,
   "metadata": {},
   "outputs": [
    {
     "data": {
      "text/plain": [
       "6"
      ]
     },
     "execution_count": 29,
     "metadata": {},
     "output_type": "execute_result"
    }
   ],
   "source": [
    "A.shape[1]"
   ]
  },
  {
   "cell_type": "code",
   "execution_count": 30,
   "metadata": {},
   "outputs": [
    {
     "data": {
      "text/plain": [
       "array([[0.0409687 , 0.        , 0.        , 0.        ],\n",
       "       [0.        , 0.09731761, 0.        , 0.        ],\n",
       "       [0.        , 0.        , 0.19550464, 0.        ],\n",
       "       [0.        , 0.        , 0.        , 0.5379748 ]])"
      ]
     },
     "execution_count": 30,
     "metadata": {},
     "output_type": "execute_result"
    }
   ],
   "source": [
    "np.diag(d)"
   ]
  },
  {
   "cell_type": "code",
   "execution_count": 31,
   "metadata": {},
   "outputs": [
    {
     "data": {
      "text/plain": [
       "array([[0.0409687 , 0.        , 0.        , 0.        , 0.        ,\n",
       "        0.        ],\n",
       "       [0.        , 0.09731761, 0.        , 0.        , 0.        ,\n",
       "        0.        ],\n",
       "       [0.        , 0.        , 0.19550464, 0.        , 0.        ,\n",
       "        0.        ],\n",
       "       [0.        , 0.        , 0.        , 0.5379748 , 0.        ,\n",
       "        0.        ]])"
      ]
     },
     "execution_count": 31,
     "metadata": {},
     "output_type": "execute_result"
    }
   ],
   "source": [
    "# D with nxn of diagonal matrix\n",
    "D[:A.shape[0],:A.shape[0]] = np.diag(d)\n",
    "D"
   ]
  },
  {
   "cell_type": "code",
   "execution_count": 32,
   "metadata": {},
   "outputs": [
    {
     "data": {
      "text/plain": [
       "array([[ 0.00222679,  0.09487891,  0.08119773, -0.1363245 ],\n",
       "       [ 0.1080693 ,  0.06374534,  0.02416464, -0.17233993],\n",
       "       [ 0.18421359,  0.06668977,  0.01782394, -0.16104891],\n",
       "       [-0.00814314, -0.07884237, -0.00435011,  0.12620574],\n",
       "       [-0.06901422,  0.07355745,  0.08664306, -0.11643048],\n",
       "       [ 0.13850343,  0.23692665, -0.00048221, -0.25525675]])"
      ]
     },
     "execution_count": 32,
     "metadata": {},
     "output_type": "execute_result"
    }
   ],
   "source": [
    "# Construct pseudoinverse B\n",
    "B = VT.dot(D.T).dot(U.T)\n",
    "B"
   ]
  },
  {
   "cell_type": "code",
   "execution_count": 33,
   "metadata": {},
   "outputs": [
    {
     "data": {
      "text/plain": [
       "(6, 4)"
      ]
     },
     "execution_count": 33,
     "metadata": {},
     "output_type": "execute_result"
    }
   ],
   "source": [
    "B.shape"
   ]
  }
 ],
 "metadata": {
  "kernelspec": {
   "display_name": "Python 3",
   "language": "python",
   "name": "python3"
  },
  "language_info": {
   "codemirror_mode": {
    "name": "ipython",
    "version": 3
   },
   "file_extension": ".py",
   "mimetype": "text/x-python",
   "name": "python",
   "nbconvert_exporter": "python",
   "pygments_lexer": "ipython3",
   "version": "3.8.3"
  }
 },
 "nbformat": 4,
 "nbformat_minor": 2
}
